{
 "metadata": {
  "name": "colormap"
 },
 "nbformat": 3,
 "nbformat_minor": 0,
 "worksheets": [
  {
   "cells": [
    {
     "cell_type": "code",
     "collapsed": false,
     "input": [
      "from matplotlib.colors import Normalize, LinearSegmentedColormap\n",
      "a = arange(100).reshape(10,10)\n",
      "a"
     ],
     "language": "python",
     "metadata": {},
     "outputs": []
    },
    {
     "cell_type": "code",
     "collapsed": false,
     "input": [
      "matplotlib.colors.LinearSegmentedColormap?"
     ],
     "language": "python",
     "metadata": {},
     "outputs": []
    },
    {
     "cell_type": "code",
     "collapsed": false,
     "input": [
      "cdict = {\n",
      "    'red':   ((0.,    1, 1),\n",
      "              (0.05,  1, 1),\n",
      "              (0.11,  0, 0),\n",
      "              (0.66,  1, 1),\n",
      "              (0.89,  1, 1),\n",
      "              (1,     0.5, 0.5)),\n",
      "    'green': ((0.,    1, 1),\n",
      "              (0.05,  1, 1),\n",
      "              (0.11,  0, 0),\n",
      "              (0.375, 1, 1),\n",
      "              (0.64,  1, 1),\n",
      "              (0.91,  0, 0),\n",
      "              (1,     0, 0)),\n",
      "    'blue':  ((0.,    1, 1),\n",
      "              (0.05,  1, 1),\n",
      "              (0.11,  1, 1),\n",
      "              (0.34,  1, 1),\n",
      "              (0.65,  0, 0),\n",
      "              (1,     0, 0))\n",
      "}\n",
      "\n",
      "num_segments = 10\n",
      "cmap_name = 'my_colormap'\n",
      "my_cmap = LinearSegmentedColormap(cmap_name, cdict, num_segments)\n",
      "pcolor(a, cmap=my_cmap)\n",
      "colorbar()\n",
      "show()"
     ],
     "language": "python",
     "metadata": {},
     "outputs": []
    },
    {
     "cell_type": "code",
     "collapsed": false,
     "input": [
      "r = 10\n",
      "cmap_name = 'my_colormap'\n",
      "my_cmap = matplotlib.colors.LinearSegmentedColormap(cmap_name,cdict,r)\n",
      "b = a * (a % 5)\n",
      "pcolor(b, cmap=my_cmap)\n",
      "colorbar()\n",
      "show()"
     ],
     "language": "python",
     "metadata": {},
     "outputs": []
    },
    {
     "cell_type": "code",
     "collapsed": false,
     "input": [
      "b"
     ],
     "language": "python",
     "metadata": {},
     "outputs": []
    },
    {
     "cell_type": "code",
     "collapsed": false,
     "input": [
      "cm.datad.keys()"
     ],
     "language": "python",
     "metadata": {},
     "outputs": []
    },
    {
     "cell_type": "code",
     "collapsed": false,
     "input": [
      "cm.datad['gist_ncar_r']"
     ],
     "language": "python",
     "metadata": {},
     "outputs": []
    },
    {
     "cell_type": "code",
     "collapsed": false,
     "input": [
      "r = 10\n",
      "cmap_name = 'gist_ncar_r'\n",
      "ncar = matplotlib.colors.LinearSegmentedColormap(cmap_name,cm.datad[cmap_name],r)\n",
      "pcolor(a, cmap=ncar)\n",
      "colorbar()\n",
      "show()"
     ],
     "language": "python",
     "metadata": {},
     "outputs": []
    }
   ],
   "metadata": {}
  }
 ]
}